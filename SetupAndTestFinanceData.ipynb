{
 "cells": [
  {
   "cell_type": "code",
   "execution_count": 1,
   "id": "f0a9001f",
   "metadata": {},
   "outputs": [],
   "source": [
    "import pandas as pd\n",
    "import numpy as np\n",
    "import os\n",
    "import matplotlib.pyplot as plt\n",
    "from FourierTransform import fourier_transform, inverse_fourier_transform\n",
    "from BasicAlgorithm import recover_with_zero_fourier"
   ]
  },
  {
   "cell_type": "code",
   "execution_count": 2,
   "id": "7bd217d6",
   "metadata": {},
   "outputs": [
    {
     "data": {
      "text/plain": [
       "array(['ADIL.csv', 'DOCU.csv', 'ACST.csv', 'NCB.csv', 'AWX.csv',\n",
       "       'LAND.csv', 'TALO.csv', 'PYPE.csv', 'FITBO.csv', 'LTRX.csv'],\n",
       "      dtype='<U9')"
      ]
     },
     "execution_count": 2,
     "metadata": {},
     "output_type": "execute_result"
    }
   ],
   "source": [
    "data_path = r'C:\\Users\\natha\\My Drive\\Math PhD\\Research\\Dimension\\kaggle_stock_market_dataset_onyshchak\\stocks'\n",
    "stock_fns = os.listdir(data_path)\n",
    "n_stocks = 10\n",
    "specific_fns = np.random.choice(stock_fns, n_stocks, replace=False)\n",
    "specific_fns"
   ]
  },
  {
   "cell_type": "code",
   "execution_count": null,
   "id": "b9f487aa",
   "metadata": {
    "scrolled": false
   },
   "outputs": [
    {
     "name": "stdout",
     "output_type": "stream",
     "text": [
      "ADIL.csv\n",
      "(423, 7)\n",
      "5.7492325006975\n",
      "6.777477172639107e-11\n",
      "DOCU.csv\n",
      "(486, 7)\n",
      "60.99160948524356\n",
      "1.9570500670983915e-09\n",
      "ACST.csv\n",
      "(2051, 7)\n",
      "5.060526632315176\n",
      "2.491068281809584e-09\n",
      "NCB.csv\n",
      "(2752, 7)\n",
      "8.541832067002883\n",
      "2.8708191928406227e-08\n",
      "AWX.csv\n",
      "(5480, 7)\n",
      "1.597187068553609\n",
      "2.110526750127169e-09\n",
      "LAND.csv\n",
      "(1807, 7)\n",
      "12.409449560736695\n",
      "1.185774916100539e-08\n",
      "TALO.csv\n",
      "(477, 7)\n",
      "21.111584628574867\n",
      "1.872059986471387e-10\n",
      "PYPE.csv\n",
      "(399, 7)\n",
      "32.932252267061855\n",
      "1.586640106163026e-10\n",
      "FITBO.csv\n",
      "(139, 7)\n",
      "170.12636830930208\n",
      "5.463478347754902e-10\n",
      "LTRX.csv\n",
      "(4945, 7)\n"
     ]
    }
   ],
   "source": [
    "for fn in specific_fns:\n",
    "    print(fn)\n",
    "    stock_data = pd.read_csv(os.path.join(data_path, fn))\n",
    "    print(stock_data.shape)\n",
    "    N = stock_data.shape[0]\n",
    "    close_data = stock_data['Close']\n",
    "    close_ft = fourier_transform(close_data)\n",
    "    \n",
    "    close_ft_mod = [abs(x) for x in close_ft]\n",
    "    n_missing = np.random.randint(5, 21)\n",
    "    missing_values = np.random.choice(range(N), n_missing, replace=False)\n",
    "    close_data_missing = [close_data[i] if i not in missing_values else None for i in range(N)]\n",
    "    lowest_ft = sorted(range(len(close_ft_mod)), key=lambda sub: close_ft_mod[sub])[:n_missing]\n",
    "    close_ft_zeros = [close_ft[i] if i not in lowest_ft else 0 for i in range(N)]\n",
    "    close_data_reconstructed = inverse_fourier_transform(close_ft_zeros)\n",
    "    close_data_reconstructed_missing = [close_data_reconstructed[i] if i not in missing_values else None for i in range(N)]\n",
    "    \n",
    "    close_data2 = recover_with_zero_fourier(close_data_missing, lowest_ft)\n",
    "    close_data_reconstructed2 = recover_with_zero_fourier(close_data_reconstructed_missing, lowest_ft)\n",
    "    \n",
    "    err_orig = [abs(e) for e in np.array(close_data) - np.array(close_data2)]\n",
    "    err_reconstructed = [abs(e) for e in np.array(close_data_reconstructed) - np.array(close_data_reconstructed2)]\n",
    "    \n",
    "    print(sum(err_orig))\n",
    "    print(sum(err_reconstructed))\n",
    "    \n",
    "    close_data_frame = pd.DataFrame(index=stock_data.index)\n",
    "    close_data_frame['close_data'] = close_data\n",
    "    close_data_frame['close_ft'] = close_ft\n",
    "    close_data_frame['close_ft_mod'] = close_ft_mod\n",
    "    close_data_frame['close_data_missing'] = close_data_missing\n",
    "    close_data_frame['close_ft_zeros'] = close_ft_zeros\n",
    "    close_data_frame['close_data_reconstructed'] = close_data_reconstructed\n",
    "    close_data_frame['close_data_reconstructed_missing'] = close_data_reconstructed_missing\n",
    "    close_data_frame['close_data2'] = close_data2\n",
    "    close_data_frame['close_data_reconstructed2'] = close_data_reconstructed2\n",
    "    \n",
    "    close_data_frame.to_csv(fn, index=False)"
   ]
  }
 ],
 "metadata": {
  "kernelspec": {
   "display_name": "Python 3 (ipykernel)",
   "language": "python",
   "name": "python3"
  },
  "language_info": {
   "codemirror_mode": {
    "name": "ipython",
    "version": 3
   },
   "file_extension": ".py",
   "mimetype": "text/x-python",
   "name": "python",
   "nbconvert_exporter": "python",
   "pygments_lexer": "ipython3",
   "version": "3.9.13"
  }
 },
 "nbformat": 4,
 "nbformat_minor": 5
}
